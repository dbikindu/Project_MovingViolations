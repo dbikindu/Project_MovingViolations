{
 "cells": [
  {
   "cell_type": "code",
   "execution_count": 1,
   "metadata": {},
   "outputs": [],
   "source": [
    "import pandas as pd\n",
    "import numpy as np\n",
    "from pyproj import Proj, transform\n",
    "from shapely.geometry import Point \n",
    "import os\n",
    "import geopandas as gpd\n",
    "import sqlalchemy\n",
    "from sqlalchemy import create_engine, MetaData\n",
    "from sqlalchemy.ext.declarative import declarative_base\n",
    "from sqlalchemy import Column, Integer, String, Numeric, Text, Float, ForeignKey\n",
    "from sqlalchemy.orm import sessionmaker, relationship\n",
    "import json\n",
    "from geojson import Feature, FeatureCollection, Point"
   ]
  },
  {
   "cell_type": "code",
   "execution_count": 2,
   "metadata": {},
   "outputs": [],
   "source": [
    "os.environ['PROJ_LIB']= \"C:\\\\Users\\\\dbik\\\\Anaconda3\\\\envs\\\\violationproj\\\\Library\\\\share\""
   ]
  },
  {
   "cell_type": "code",
   "execution_count": 3,
   "metadata": {},
   "outputs": [
    {
     "data": {
      "text/html": [
       "<div>\n",
       "<style scoped>\n",
       "    .dataframe tbody tr th:only-of-type {\n",
       "        vertical-align: middle;\n",
       "    }\n",
       "\n",
       "    .dataframe tbody tr th {\n",
       "        vertical-align: top;\n",
       "    }\n",
       "\n",
       "    .dataframe thead th {\n",
       "        text-align: right;\n",
       "    }\n",
       "</style>\n",
       "<table border=\"1\" class=\"dataframe\">\n",
       "  <thead>\n",
       "    <tr style=\"text-align: right;\">\n",
       "      <th></th>\n",
       "      <th>OBJECTID</th>\n",
       "      <th>ROW_</th>\n",
       "      <th>LOCATION</th>\n",
       "      <th>ADDRESS_ID</th>\n",
       "      <th>STREETSEGID</th>\n",
       "      <th>XCOORD</th>\n",
       "      <th>YCOORD</th>\n",
       "      <th>TICKETTYPE</th>\n",
       "      <th>FINEAMT</th>\n",
       "      <th>TOTALPAID</th>\n",
       "      <th>PENALTY1</th>\n",
       "      <th>PENALTY2</th>\n",
       "      <th>ACCIDENTINDICATOR</th>\n",
       "      <th>AGENCYID</th>\n",
       "      <th>TICKETISSUEDATE</th>\n",
       "      <th>VIOLATIONCODE</th>\n",
       "      <th>VIOLATIONDESC</th>\n",
       "      <th>ROW_ID</th>\n",
       "    </tr>\n",
       "  </thead>\n",
       "  <tbody>\n",
       "    <tr>\n",
       "      <th>0</th>\n",
       "      <td>14828908</td>\n",
       "      <td>NaN</td>\n",
       "      <td>600 BLK KENILWORTH AVE NE S/B</td>\n",
       "      <td>813891.0</td>\n",
       "      <td>11963.0</td>\n",
       "      <td>404478.832866</td>\n",
       "      <td>136788.897372</td>\n",
       "      <td>Moving</td>\n",
       "      <td>200</td>\n",
       "      <td>200</td>\n",
       "      <td>0</td>\n",
       "      <td>NaN</td>\n",
       "      <td>No</td>\n",
       "      <td>25.0</td>\n",
       "      <td>2018-09-01T14:04:00.000Z</td>\n",
       "      <td>T121</td>\n",
       "      <td>SPEED 21-25 MPH OVER THE SPEED LIMIT</td>\n",
       "      <td>NaN</td>\n",
       "    </tr>\n",
       "    <tr>\n",
       "      <th>1</th>\n",
       "      <td>14828909</td>\n",
       "      <td>NaN</td>\n",
       "      <td>5800 BLK NEW HAMPSHIRE AVE NE SW/B</td>\n",
       "      <td>800995.0</td>\n",
       "      <td>838.0</td>\n",
       "      <td>399529.150000</td>\n",
       "      <td>143757.600000</td>\n",
       "      <td>Moving</td>\n",
       "      <td>100</td>\n",
       "      <td>100</td>\n",
       "      <td>0</td>\n",
       "      <td>NaN</td>\n",
       "      <td>No</td>\n",
       "      <td>25.0</td>\n",
       "      <td>2018-09-04T12:11:00.000Z</td>\n",
       "      <td>T119</td>\n",
       "      <td>SPEED 11-15 MPH OVER THE SPEED LIMIT</td>\n",
       "      <td>NaN</td>\n",
       "    </tr>\n",
       "    <tr>\n",
       "      <th>2</th>\n",
       "      <td>14828910</td>\n",
       "      <td>NaN</td>\n",
       "      <td>3RD ST TUNNEL NW N/B BY MA AVE</td>\n",
       "      <td>814983.0</td>\n",
       "      <td>6364.0</td>\n",
       "      <td>398788.156100</td>\n",
       "      <td>136798.660300</td>\n",
       "      <td>Moving</td>\n",
       "      <td>150</td>\n",
       "      <td>150</td>\n",
       "      <td>0</td>\n",
       "      <td>NaN</td>\n",
       "      <td>No</td>\n",
       "      <td>25.0</td>\n",
       "      <td>2018-09-09T13:55:00.000Z</td>\n",
       "      <td>T120</td>\n",
       "      <td>SPEED 16-20 MPH OVER THE SPEED LIMIT</td>\n",
       "      <td>NaN</td>\n",
       "    </tr>\n",
       "  </tbody>\n",
       "</table>\n",
       "</div>"
      ],
      "text/plain": [
       "   OBJECTID  ROW_                            LOCATION  ADDRESS_ID  \\\n",
       "0  14828908   NaN       600 BLK KENILWORTH AVE NE S/B    813891.0   \n",
       "1  14828909   NaN  5800 BLK NEW HAMPSHIRE AVE NE SW/B    800995.0   \n",
       "2  14828910   NaN      3RD ST TUNNEL NW N/B BY MA AVE    814983.0   \n",
       "\n",
       "   STREETSEGID         XCOORD         YCOORD TICKETTYPE  FINEAMT  TOTALPAID  \\\n",
       "0      11963.0  404478.832866  136788.897372     Moving      200        200   \n",
       "1        838.0  399529.150000  143757.600000     Moving      100        100   \n",
       "2       6364.0  398788.156100  136798.660300     Moving      150        150   \n",
       "\n",
       "   PENALTY1  PENALTY2 ACCIDENTINDICATOR  AGENCYID           TICKETISSUEDATE  \\\n",
       "0         0       NaN                No      25.0  2018-09-01T14:04:00.000Z   \n",
       "1         0       NaN                No      25.0  2018-09-04T12:11:00.000Z   \n",
       "2         0       NaN                No      25.0  2018-09-09T13:55:00.000Z   \n",
       "\n",
       "  VIOLATIONCODE                         VIOLATIONDESC  ROW_ID  \n",
       "0          T121  SPEED 21-25 MPH OVER THE SPEED LIMIT     NaN  \n",
       "1          T119  SPEED 11-15 MPH OVER THE SPEED LIMIT     NaN  \n",
       "2          T120  SPEED 16-20 MPH OVER THE SPEED LIMIT     NaN  "
      ]
     },
     "execution_count": 3,
     "metadata": {},
     "output_type": "execute_result"
    }
   ],
   "source": [
    "# Read the CSV file into Pandas\n",
    "moving_df = pd.read_csv('Moving_Violations_Issued_in_September_2018.csv')\n",
    "moving_df.head(3)"
   ]
  },
  {
   "cell_type": "code",
   "execution_count": 4,
   "metadata": {},
   "outputs": [
    {
     "data": {
      "text/html": [
       "<div>\n",
       "<style scoped>\n",
       "    .dataframe tbody tr th:only-of-type {\n",
       "        vertical-align: middle;\n",
       "    }\n",
       "\n",
       "    .dataframe tbody tr th {\n",
       "        vertical-align: top;\n",
       "    }\n",
       "\n",
       "    .dataframe thead th {\n",
       "        text-align: right;\n",
       "    }\n",
       "</style>\n",
       "<table border=\"1\" class=\"dataframe\">\n",
       "  <thead>\n",
       "    <tr style=\"text-align: right;\">\n",
       "      <th></th>\n",
       "      <th>STREETSEGID</th>\n",
       "      <th>LOCATION</th>\n",
       "      <th>XCOORD</th>\n",
       "      <th>YCOORD</th>\n",
       "      <th>TOTALPAID</th>\n",
       "      <th>VIOLATIONDESC</th>\n",
       "    </tr>\n",
       "  </thead>\n",
       "  <tbody>\n",
       "    <tr>\n",
       "      <th>0</th>\n",
       "      <td>11963.0</td>\n",
       "      <td>600 BLK KENILWORTH AVE NE S/B</td>\n",
       "      <td>404478.832866</td>\n",
       "      <td>136788.897372</td>\n",
       "      <td>200</td>\n",
       "      <td>SPEED 21-25 MPH OVER THE SPEED LIMIT</td>\n",
       "    </tr>\n",
       "    <tr>\n",
       "      <th>1</th>\n",
       "      <td>838.0</td>\n",
       "      <td>5800 BLK NEW HAMPSHIRE AVE NE SW/B</td>\n",
       "      <td>399529.150000</td>\n",
       "      <td>143757.600000</td>\n",
       "      <td>100</td>\n",
       "      <td>SPEED 11-15 MPH OVER THE SPEED LIMIT</td>\n",
       "    </tr>\n",
       "    <tr>\n",
       "      <th>2</th>\n",
       "      <td>6364.0</td>\n",
       "      <td>3RD ST TUNNEL NW N/B BY MA AVE</td>\n",
       "      <td>398788.156100</td>\n",
       "      <td>136798.660300</td>\n",
       "      <td>150</td>\n",
       "      <td>SPEED 16-20 MPH OVER THE SPEED LIMIT</td>\n",
       "    </tr>\n",
       "  </tbody>\n",
       "</table>\n",
       "</div>"
      ],
      "text/plain": [
       "   STREETSEGID                            LOCATION         XCOORD  \\\n",
       "0      11963.0       600 BLK KENILWORTH AVE NE S/B  404478.832866   \n",
       "1        838.0  5800 BLK NEW HAMPSHIRE AVE NE SW/B  399529.150000   \n",
       "2       6364.0      3RD ST TUNNEL NW N/B BY MA AVE  398788.156100   \n",
       "\n",
       "          YCOORD  TOTALPAID                         VIOLATIONDESC  \n",
       "0  136788.897372        200  SPEED 21-25 MPH OVER THE SPEED LIMIT  \n",
       "1  143757.600000        100  SPEED 11-15 MPH OVER THE SPEED LIMIT  \n",
       "2  136798.660300        150  SPEED 16-20 MPH OVER THE SPEED LIMIT  "
      ]
     },
     "execution_count": 4,
     "metadata": {},
     "output_type": "execute_result"
    }
   ],
   "source": [
    "# reduce the number of columns to keep only those relevant for the analysis\n",
    "mv_df = moving_df[['STREETSEGID', 'LOCATION', 'XCOORD', 'YCOORD', 'TOTALPAID', 'VIOLATIONDESC']]\n",
    "mv_df.head(3)"
   ]
  },
  {
   "cell_type": "code",
   "execution_count": 5,
   "metadata": {},
   "outputs": [
    {
     "name": "stdout",
     "output_type": "stream",
     "text": [
      "<class 'pandas.core.frame.DataFrame'>\n",
      "RangeIndex: 116370 entries, 0 to 116369\n",
      "Data columns (total 6 columns):\n",
      "STREETSEGID      115904 non-null float64\n",
      "LOCATION         116370 non-null object\n",
      "XCOORD           116370 non-null float64\n",
      "YCOORD           116370 non-null float64\n",
      "TOTALPAID        116370 non-null int64\n",
      "VIOLATIONDESC    116369 non-null object\n",
      "dtypes: float64(3), int64(1), object(2)\n",
      "memory usage: 5.3+ MB\n"
     ]
    }
   ],
   "source": [
    "mv_df.info()"
   ]
  },
  {
   "cell_type": "code",
   "execution_count": 6,
   "metadata": {},
   "outputs": [
    {
     "name": "stdout",
     "output_type": "stream",
     "text": [
      "<class 'pandas.core.frame.DataFrame'>\n",
      "Int64Index: 115903 entries, 0 to 116369\n",
      "Data columns (total 6 columns):\n",
      "STREETSEGID      115903 non-null float64\n",
      "LOCATION         115903 non-null object\n",
      "XCOORD           115903 non-null float64\n",
      "YCOORD           115903 non-null float64\n",
      "TOTALPAID        115903 non-null int64\n",
      "VIOLATIONDESC    115903 non-null object\n",
      "dtypes: float64(3), int64(1), object(2)\n",
      "memory usage: 6.2+ MB\n"
     ]
    }
   ],
   "source": [
    "# dropna\n",
    "mv_dropna = mv_df.dropna(how='any')\n",
    "mv_dropna.info()"
   ]
  },
  {
   "cell_type": "code",
   "execution_count": 7,
   "metadata": {},
   "outputs": [
    {
     "data": {
      "text/html": [
       "<div>\n",
       "<style scoped>\n",
       "    .dataframe tbody tr th:only-of-type {\n",
       "        vertical-align: middle;\n",
       "    }\n",
       "\n",
       "    .dataframe tbody tr th {\n",
       "        vertical-align: top;\n",
       "    }\n",
       "\n",
       "    .dataframe thead th {\n",
       "        text-align: right;\n",
       "    }\n",
       "</style>\n",
       "<table border=\"1\" class=\"dataframe\">\n",
       "  <thead>\n",
       "    <tr style=\"text-align: right;\">\n",
       "      <th></th>\n",
       "      <th>STREETSEGID</th>\n",
       "      <th>LOCATION</th>\n",
       "      <th>XCOORD</th>\n",
       "      <th>YCOORD</th>\n",
       "      <th>TOTALPAID</th>\n",
       "      <th>VIOLATIONDESC</th>\n",
       "    </tr>\n",
       "  </thead>\n",
       "  <tbody>\n",
       "    <tr>\n",
       "      <th>0</th>\n",
       "      <td>11963.0</td>\n",
       "      <td>600 BLK KENILWORTH AVE NE S/B</td>\n",
       "      <td>404478.832866</td>\n",
       "      <td>136788.897372</td>\n",
       "      <td>200</td>\n",
       "      <td>SPEED 21-25 MPH OVER THE SPEED LIMIT</td>\n",
       "    </tr>\n",
       "    <tr>\n",
       "      <th>1</th>\n",
       "      <td>838.0</td>\n",
       "      <td>5800 BLK NEW HAMPSHIRE AVE NE SW/B</td>\n",
       "      <td>399529.150000</td>\n",
       "      <td>143757.600000</td>\n",
       "      <td>100</td>\n",
       "      <td>SPEED 11-15 MPH OVER THE SPEED LIMIT</td>\n",
       "    </tr>\n",
       "    <tr>\n",
       "      <th>2</th>\n",
       "      <td>6364.0</td>\n",
       "      <td>3RD ST TUNNEL NW N/B BY MA AVE</td>\n",
       "      <td>398788.156100</td>\n",
       "      <td>136798.660300</td>\n",
       "      <td>150</td>\n",
       "      <td>SPEED 16-20 MPH OVER THE SPEED LIMIT</td>\n",
       "    </tr>\n",
       "  </tbody>\n",
       "</table>\n",
       "</div>"
      ],
      "text/plain": [
       "   STREETSEGID                            LOCATION         XCOORD  \\\n",
       "0      11963.0       600 BLK KENILWORTH AVE NE S/B  404478.832866   \n",
       "1        838.0  5800 BLK NEW HAMPSHIRE AVE NE SW/B  399529.150000   \n",
       "2       6364.0      3RD ST TUNNEL NW N/B BY MA AVE  398788.156100   \n",
       "\n",
       "          YCOORD  TOTALPAID                         VIOLATIONDESC  \n",
       "0  136788.897372        200  SPEED 21-25 MPH OVER THE SPEED LIMIT  \n",
       "1  143757.600000        100  SPEED 11-15 MPH OVER THE SPEED LIMIT  \n",
       "2  136798.660300        150  SPEED 16-20 MPH OVER THE SPEED LIMIT  "
      ]
     },
     "execution_count": 7,
     "metadata": {},
     "output_type": "execute_result"
    }
   ],
   "source": [
    "mv_dropna.head(3)"
   ]
  },
  {
   "cell_type": "code",
   "execution_count": 8,
   "metadata": {},
   "outputs": [
    {
     "data": {
      "text/html": [
       "<div>\n",
       "<style scoped>\n",
       "    .dataframe tbody tr th:only-of-type {\n",
       "        vertical-align: middle;\n",
       "    }\n",
       "\n",
       "    .dataframe tbody tr th {\n",
       "        vertical-align: top;\n",
       "    }\n",
       "\n",
       "    .dataframe thead th {\n",
       "        text-align: right;\n",
       "    }\n",
       "</style>\n",
       "<table border=\"1\" class=\"dataframe\">\n",
       "  <thead>\n",
       "    <tr style=\"text-align: right;\">\n",
       "      <th></th>\n",
       "      <th>LOCATION</th>\n",
       "      <th>XCOORD</th>\n",
       "      <th>YCOORD</th>\n",
       "    </tr>\n",
       "  </thead>\n",
       "  <tbody>\n",
       "    <tr>\n",
       "      <th>0</th>\n",
       "      <td>600 BLK KENILWORTH AVE NE S/B</td>\n",
       "      <td>404478.832866</td>\n",
       "      <td>136788.897372</td>\n",
       "    </tr>\n",
       "    <tr>\n",
       "      <th>1</th>\n",
       "      <td>5800 BLK NEW HAMPSHIRE AVE NE SW/B</td>\n",
       "      <td>399529.150000</td>\n",
       "      <td>143757.600000</td>\n",
       "    </tr>\n",
       "    <tr>\n",
       "      <th>2</th>\n",
       "      <td>3RD ST TUNNEL NW N/B BY MA AVE</td>\n",
       "      <td>398788.156100</td>\n",
       "      <td>136798.660300</td>\n",
       "    </tr>\n",
       "  </tbody>\n",
       "</table>\n",
       "</div>"
      ],
      "text/plain": [
       "                             LOCATION         XCOORD         YCOORD\n",
       "0       600 BLK KENILWORTH AVE NE S/B  404478.832866  136788.897372\n",
       "1  5800 BLK NEW HAMPSHIRE AVE NE SW/B  399529.150000  143757.600000\n",
       "2      3RD ST TUNNEL NW N/B BY MA AVE  398788.156100  136798.660300"
      ]
     },
     "execution_count": 8,
     "metadata": {},
     "output_type": "execute_result"
    }
   ],
   "source": [
    "location_df = mv_dropna[['LOCATION', 'XCOORD', 'YCOORD']]\n",
    "location_df.head(3)"
   ]
  },
  {
   "cell_type": "code",
   "execution_count": 9,
   "metadata": {},
   "outputs": [
    {
     "data": {
      "text/html": [
       "<div>\n",
       "<style scoped>\n",
       "    .dataframe tbody tr th:only-of-type {\n",
       "        vertical-align: middle;\n",
       "    }\n",
       "\n",
       "    .dataframe tbody tr th {\n",
       "        vertical-align: top;\n",
       "    }\n",
       "\n",
       "    .dataframe thead th {\n",
       "        text-align: right;\n",
       "    }\n",
       "</style>\n",
       "<table border=\"1\" class=\"dataframe\">\n",
       "  <thead>\n",
       "    <tr style=\"text-align: right;\">\n",
       "      <th></th>\n",
       "      <th>0</th>\n",
       "      <th>1</th>\n",
       "    </tr>\n",
       "  </thead>\n",
       "  <tbody>\n",
       "    <tr>\n",
       "      <th>0</th>\n",
       "      <td>-76.948368</td>\n",
       "      <td>38.898940</td>\n",
       "    </tr>\n",
       "    <tr>\n",
       "      <th>1</th>\n",
       "      <td>-77.005433</td>\n",
       "      <td>38.961727</td>\n",
       "    </tr>\n",
       "    <tr>\n",
       "      <th>2</th>\n",
       "      <td>-77.013970</td>\n",
       "      <td>38.899039</td>\n",
       "    </tr>\n",
       "  </tbody>\n",
       "</table>\n",
       "</div>"
      ],
      "text/plain": [
       "           0          1\n",
       "0 -76.948368  38.898940\n",
       "1 -77.005433  38.961727\n",
       "2 -77.013970  38.899039"
      ]
     },
     "execution_count": 9,
     "metadata": {},
     "output_type": "execute_result"
    }
   ],
   "source": [
    "# Convert xcoord and ycoord to Longitude/Latitude using the pyproj module\n",
    "inProj = Proj(init='epsg:3559')\n",
    "outProj = Proj(init='epsg:4326')\n",
    "\n",
    "def convertCoords(row):\n",
    "    return pd.Series(transform(inProj, outProj, row['XCOORD'], row['YCOORD']))\n",
    "\n",
    "convert_df = mv_dropna.apply(convertCoords, axis=1)\n",
    "\n",
    "convert_df.head(3)"
   ]
  },
  {
   "cell_type": "code",
   "execution_count": 10,
   "metadata": {},
   "outputs": [
    {
     "data": {
      "text/html": [
       "<div>\n",
       "<style scoped>\n",
       "    .dataframe tbody tr th:only-of-type {\n",
       "        vertical-align: middle;\n",
       "    }\n",
       "\n",
       "    .dataframe tbody tr th {\n",
       "        vertical-align: top;\n",
       "    }\n",
       "\n",
       "    .dataframe thead th {\n",
       "        text-align: right;\n",
       "    }\n",
       "</style>\n",
       "<table border=\"1\" class=\"dataframe\">\n",
       "  <thead>\n",
       "    <tr style=\"text-align: right;\">\n",
       "      <th></th>\n",
       "      <th>LONGITUDE</th>\n",
       "      <th>LATITUDE</th>\n",
       "    </tr>\n",
       "  </thead>\n",
       "  <tbody>\n",
       "    <tr>\n",
       "      <th>0</th>\n",
       "      <td>-76.948368</td>\n",
       "      <td>38.898940</td>\n",
       "    </tr>\n",
       "    <tr>\n",
       "      <th>1</th>\n",
       "      <td>-77.005433</td>\n",
       "      <td>38.961727</td>\n",
       "    </tr>\n",
       "    <tr>\n",
       "      <th>2</th>\n",
       "      <td>-77.013970</td>\n",
       "      <td>38.899039</td>\n",
       "    </tr>\n",
       "  </tbody>\n",
       "</table>\n",
       "</div>"
      ],
      "text/plain": [
       "   LONGITUDE   LATITUDE\n",
       "0 -76.948368  38.898940\n",
       "1 -77.005433  38.961727\n",
       "2 -77.013970  38.899039"
      ]
     },
     "execution_count": 10,
     "metadata": {},
     "output_type": "execute_result"
    }
   ],
   "source": [
    "lat_lon = convert_df.rename(columns={0:'LONGITUDE',1:'LATITUDE'})\n",
    "lat_lon.head(3)"
   ]
  },
  {
   "cell_type": "code",
   "execution_count": 11,
   "metadata": {},
   "outputs": [
    {
     "data": {
      "text/plain": [
       "LOCATION\n",
       "1 COLUMBUS CIR  NE        25\n",
       "1 RHODE ISLAND AVE NE    150\n",
       "1/MISSOURI AVE NW          0\n",
       "100 12ST NW                0\n",
       "100 15TH ST NW             0\n",
       "Name: TOTALPAID, dtype: int64"
      ]
     },
     "execution_count": 11,
     "metadata": {},
     "output_type": "execute_result"
    }
   ],
   "source": [
    "# Group by location and calculate the total fine for each location\n",
    "finepaid_df = mv_dropna.groupby('LOCATION')['TOTALPAID'].sum()\n",
    "finepaid_df.head()"
   ]
  },
  {
   "cell_type": "code",
   "execution_count": 16,
   "metadata": {},
   "outputs": [
    {
     "data": {
      "text/plain": [
       "LOCATION\n",
       "600 BLK KENILWORTH AVE NE S/B         314725\n",
       "DC295 SW .7 MILES S/O EXIT 1 S/B      266430\n",
       "DC295 SW .2 MILES S/O EXIT 1 N/B      264040\n",
       "3RD ST TUNNEL NW N/B BY MA AVE        256265\n",
       "2200 BLOCK K ST NW E/B                246785\n",
       "2200 BLK K ST NW W/B                  224020\n",
       "600 BLK NEW YORK AVENUE NE W/B        193250\n",
       "DC 295 .4 MI S/O PENN AVE SE SW/B     169060\n",
       "100 BLK MICHIGAN AVE NW E/B           165270\n",
       "4600 BLK MASSACHUSETTS AVE NW NW/B    134825\n",
       "Name: TOTALPAID, dtype: int64"
      ]
     },
     "execution_count": 16,
     "metadata": {},
     "output_type": "execute_result"
    }
   ],
   "source": [
    "# Top 10 location with the highest fine\n",
    "highest_fine_df = finepaid_df.sort_values(ascending=False).head(10)\n",
    "highest_fine_df"
   ]
  },
  {
   "cell_type": "code",
   "execution_count": 17,
   "metadata": {},
   "outputs": [
    {
     "data": {
      "text/html": [
       "<div>\n",
       "<style scoped>\n",
       "    .dataframe tbody tr th:only-of-type {\n",
       "        vertical-align: middle;\n",
       "    }\n",
       "\n",
       "    .dataframe tbody tr th {\n",
       "        vertical-align: top;\n",
       "    }\n",
       "\n",
       "    .dataframe thead th {\n",
       "        text-align: right;\n",
       "    }\n",
       "</style>\n",
       "<table border=\"1\" class=\"dataframe\">\n",
       "  <thead>\n",
       "    <tr style=\"text-align: right;\">\n",
       "      <th></th>\n",
       "      <th>STREETSEGID</th>\n",
       "      <th>LOCATION</th>\n",
       "      <th>XCOORD</th>\n",
       "      <th>YCOORD</th>\n",
       "      <th>TOTALPAID</th>\n",
       "      <th>VIOLATIONDESC</th>\n",
       "      <th>LONGITUDE</th>\n",
       "      <th>LATITUDE</th>\n",
       "    </tr>\n",
       "  </thead>\n",
       "  <tbody>\n",
       "    <tr>\n",
       "      <th>0</th>\n",
       "      <td>11963.0</td>\n",
       "      <td>600 BLK KENILWORTH AVE NE S/B</td>\n",
       "      <td>404478.832866</td>\n",
       "      <td>136788.897372</td>\n",
       "      <td>200</td>\n",
       "      <td>SPEED 21-25 MPH OVER THE SPEED LIMIT</td>\n",
       "      <td>-76.948368</td>\n",
       "      <td>38.898940</td>\n",
       "    </tr>\n",
       "    <tr>\n",
       "      <th>1</th>\n",
       "      <td>838.0</td>\n",
       "      <td>5800 BLK NEW HAMPSHIRE AVE NE SW/B</td>\n",
       "      <td>399529.150000</td>\n",
       "      <td>143757.600000</td>\n",
       "      <td>100</td>\n",
       "      <td>SPEED 11-15 MPH OVER THE SPEED LIMIT</td>\n",
       "      <td>-77.005433</td>\n",
       "      <td>38.961727</td>\n",
       "    </tr>\n",
       "    <tr>\n",
       "      <th>2</th>\n",
       "      <td>6364.0</td>\n",
       "      <td>3RD ST TUNNEL NW N/B BY MA AVE</td>\n",
       "      <td>398788.156100</td>\n",
       "      <td>136798.660300</td>\n",
       "      <td>150</td>\n",
       "      <td>SPEED 16-20 MPH OVER THE SPEED LIMIT</td>\n",
       "      <td>-77.013970</td>\n",
       "      <td>38.899039</td>\n",
       "    </tr>\n",
       "  </tbody>\n",
       "</table>\n",
       "</div>"
      ],
      "text/plain": [
       "   STREETSEGID                            LOCATION         XCOORD  \\\n",
       "0      11963.0       600 BLK KENILWORTH AVE NE S/B  404478.832866   \n",
       "1        838.0  5800 BLK NEW HAMPSHIRE AVE NE SW/B  399529.150000   \n",
       "2       6364.0      3RD ST TUNNEL NW N/B BY MA AVE  398788.156100   \n",
       "\n",
       "          YCOORD  TOTALPAID                         VIOLATIONDESC  LONGITUDE  \\\n",
       "0  136788.897372        200  SPEED 21-25 MPH OVER THE SPEED LIMIT -76.948368   \n",
       "1  143757.600000        100  SPEED 11-15 MPH OVER THE SPEED LIMIT -77.005433   \n",
       "2  136798.660300        150  SPEED 16-20 MPH OVER THE SPEED LIMIT -77.013970   \n",
       "\n",
       "    LATITUDE  \n",
       "0  38.898940  \n",
       "1  38.961727  \n",
       "2  38.899039  "
      ]
     },
     "execution_count": 17,
     "metadata": {},
     "output_type": "execute_result"
    }
   ],
   "source": [
    "# Merging the dataframes lat_lon and mv_dropna together with an outer join\n",
    "moving_merge=mv_dropna.merge(lat_lon, how='outer',left_index=True, right_index=True)\n",
    "moving_merge.head(3)"
   ]
  },
  {
   "cell_type": "code",
   "execution_count": 18,
   "metadata": {},
   "outputs": [
    {
     "data": {
      "text/html": [
       "<div>\n",
       "<style scoped>\n",
       "    .dataframe tbody tr th:only-of-type {\n",
       "        vertical-align: middle;\n",
       "    }\n",
       "\n",
       "    .dataframe tbody tr th {\n",
       "        vertical-align: top;\n",
       "    }\n",
       "\n",
       "    .dataframe thead th {\n",
       "        text-align: right;\n",
       "    }\n",
       "</style>\n",
       "<table border=\"1\" class=\"dataframe\">\n",
       "  <thead>\n",
       "    <tr style=\"text-align: right;\">\n",
       "      <th></th>\n",
       "      <th>STREETSEGID</th>\n",
       "      <th>LOCATION</th>\n",
       "      <th>LATITUDE</th>\n",
       "      <th>LONGITUDE</th>\n",
       "      <th>VIOLATIONDESC</th>\n",
       "      <th>TOTALPAID</th>\n",
       "    </tr>\n",
       "  </thead>\n",
       "  <tbody>\n",
       "    <tr>\n",
       "      <th>0</th>\n",
       "      <td>11963.0</td>\n",
       "      <td>600 BLK KENILWORTH AVE NE S/B</td>\n",
       "      <td>38.898940</td>\n",
       "      <td>-76.948368</td>\n",
       "      <td>SPEED 21-25 MPH OVER THE SPEED LIMIT</td>\n",
       "      <td>200</td>\n",
       "    </tr>\n",
       "    <tr>\n",
       "      <th>1</th>\n",
       "      <td>838.0</td>\n",
       "      <td>5800 BLK NEW HAMPSHIRE AVE NE SW/B</td>\n",
       "      <td>38.961727</td>\n",
       "      <td>-77.005433</td>\n",
       "      <td>SPEED 11-15 MPH OVER THE SPEED LIMIT</td>\n",
       "      <td>100</td>\n",
       "    </tr>\n",
       "    <tr>\n",
       "      <th>2</th>\n",
       "      <td>6364.0</td>\n",
       "      <td>3RD ST TUNNEL NW N/B BY MA AVE</td>\n",
       "      <td>38.899039</td>\n",
       "      <td>-77.013970</td>\n",
       "      <td>SPEED 16-20 MPH OVER THE SPEED LIMIT</td>\n",
       "      <td>150</td>\n",
       "    </tr>\n",
       "  </tbody>\n",
       "</table>\n",
       "</div>"
      ],
      "text/plain": [
       "   STREETSEGID                            LOCATION   LATITUDE  LONGITUDE  \\\n",
       "0      11963.0       600 BLK KENILWORTH AVE NE S/B  38.898940 -76.948368   \n",
       "1        838.0  5800 BLK NEW HAMPSHIRE AVE NE SW/B  38.961727 -77.005433   \n",
       "2       6364.0      3RD ST TUNNEL NW N/B BY MA AVE  38.899039 -77.013970   \n",
       "\n",
       "                          VIOLATIONDESC  TOTALPAID  \n",
       "0  SPEED 21-25 MPH OVER THE SPEED LIMIT        200  \n",
       "1  SPEED 11-15 MPH OVER THE SPEED LIMIT        100  \n",
       "2  SPEED 16-20 MPH OVER THE SPEED LIMIT        150  "
      ]
     },
     "execution_count": 18,
     "metadata": {},
     "output_type": "execute_result"
    }
   ],
   "source": [
    "# Taking out the columns needed for futher work\n",
    "moving_merge = moving_merge[['STREETSEGID','LOCATION','LATITUDE','LONGITUDE','VIOLATIONDESC','TOTALPAID']]\n",
    "moving_merge.head(3)"
   ]
  },
  {
   "cell_type": "code",
   "execution_count": 19,
   "metadata": {},
   "outputs": [
    {
     "data": {
      "text/html": [
       "<div>\n",
       "<style scoped>\n",
       "    .dataframe tbody tr th:only-of-type {\n",
       "        vertical-align: middle;\n",
       "    }\n",
       "\n",
       "    .dataframe tbody tr th {\n",
       "        vertical-align: top;\n",
       "    }\n",
       "\n",
       "    .dataframe thead th {\n",
       "        text-align: right;\n",
       "    }\n",
       "</style>\n",
       "<table border=\"1\" class=\"dataframe\">\n",
       "  <thead>\n",
       "    <tr style=\"text-align: right;\">\n",
       "      <th></th>\n",
       "      <th>STREET_ID</th>\n",
       "      <th>LOCATION</th>\n",
       "      <th>LATITUDE</th>\n",
       "      <th>LONGITUDE</th>\n",
       "      <th>VIOLATION_DESCRIPTION</th>\n",
       "      <th>TOTAL_PAID</th>\n",
       "    </tr>\n",
       "  </thead>\n",
       "  <tbody>\n",
       "    <tr>\n",
       "      <th>0</th>\n",
       "      <td>11963.0</td>\n",
       "      <td>600 BLK KENILWORTH AVE NE S/B</td>\n",
       "      <td>38.898940</td>\n",
       "      <td>-76.948368</td>\n",
       "      <td>SPEED 21-25 MPH OVER THE SPEED LIMIT</td>\n",
       "      <td>200</td>\n",
       "    </tr>\n",
       "    <tr>\n",
       "      <th>1</th>\n",
       "      <td>838.0</td>\n",
       "      <td>5800 BLK NEW HAMPSHIRE AVE NE SW/B</td>\n",
       "      <td>38.961727</td>\n",
       "      <td>-77.005433</td>\n",
       "      <td>SPEED 11-15 MPH OVER THE SPEED LIMIT</td>\n",
       "      <td>100</td>\n",
       "    </tr>\n",
       "    <tr>\n",
       "      <th>2</th>\n",
       "      <td>6364.0</td>\n",
       "      <td>3RD ST TUNNEL NW N/B BY MA AVE</td>\n",
       "      <td>38.899039</td>\n",
       "      <td>-77.013970</td>\n",
       "      <td>SPEED 16-20 MPH OVER THE SPEED LIMIT</td>\n",
       "      <td>150</td>\n",
       "    </tr>\n",
       "  </tbody>\n",
       "</table>\n",
       "</div>"
      ],
      "text/plain": [
       "   STREET_ID                            LOCATION   LATITUDE  LONGITUDE  \\\n",
       "0    11963.0       600 BLK KENILWORTH AVE NE S/B  38.898940 -76.948368   \n",
       "1      838.0  5800 BLK NEW HAMPSHIRE AVE NE SW/B  38.961727 -77.005433   \n",
       "2     6364.0      3RD ST TUNNEL NW N/B BY MA AVE  38.899039 -77.013970   \n",
       "\n",
       "                  VIOLATION_DESCRIPTION  TOTAL_PAID  \n",
       "0  SPEED 21-25 MPH OVER THE SPEED LIMIT         200  \n",
       "1  SPEED 11-15 MPH OVER THE SPEED LIMIT         100  \n",
       "2  SPEED 16-20 MPH OVER THE SPEED LIMIT         150  "
      ]
     },
     "execution_count": 19,
     "metadata": {},
     "output_type": "execute_result"
    }
   ],
   "source": [
    "# Renaming the moving_violations dataframe\n",
    "M_violations= moving_merge.rename(columns={'STREETSEGID':'STREET_ID','VIOLATIONDESC':'VIOLATION_DESCRIPTION','TOTALPAID':'TOTAL_PAID'})\n",
    "M_violations.head(3)"
   ]
  },
  {
   "cell_type": "code",
   "execution_count": 20,
   "metadata": {},
   "outputs": [],
   "source": [
    "# Save M_violations in a CSV file\n",
    "M_violations.to_csv('cleaned_moving_violations.csv')"
   ]
  },
  {
   "cell_type": "code",
   "execution_count": 21,
   "metadata": {},
   "outputs": [],
   "source": [
    "# Transform the dataframe in format with columns used for constructing geojson object\n",
    "# save the Geometry as feature\n",
    "features = M_violations.apply(\n",
    "    lambda row: Feature(geometry=Point((float(row['LONGITUDE']), float(row['LATITUDE'])))),\n",
    "    axis=1).tolist()\n",
    "\n",
    "# all the other columns used as properties\n",
    "properties = M_violations.drop(['LONGITUDE', 'LATITUDE'], axis=1).to_dict('records')\n",
    "\n",
    "# whole geojson object\n",
    "feature_collection = FeatureCollection(features=features, properties=properties)"
   ]
  },
  {
   "cell_type": "code",
   "execution_count": 22,
   "metadata": {},
   "outputs": [],
   "source": [
    "with open('mv.geojson', 'w', encoding='utf-8') as f:\n",
    "    json.dump(feature_collection, f, ensure_ascii=False)"
   ]
  },
  {
   "cell_type": "code",
   "execution_count": 30,
   "metadata": {},
   "outputs": [],
   "source": [
    "# Create Engine\n",
    "engine = create_engine(\"sqlite:///moving_violations.sqlite\", pool_pre_ping=True)"
   ]
  },
  {
   "cell_type": "code",
   "execution_count": 31,
   "metadata": {},
   "outputs": [],
   "source": [
    "# Use `declarative_base` from SQLAlchemy to model the moving violations table as an ORM class\n",
    "Base = declarative_base()"
   ]
  },
  {
   "cell_type": "code",
   "execution_count": 32,
   "metadata": {},
   "outputs": [],
   "source": [
    "# Define the ORM class for `Moving violations`\n",
    "class Movingviolations(Base):\n",
    "    \n",
    "    __tablename__ = 'Movingviolations'\n",
    "\n",
    "    id = Column(Integer, primary_key=True)\n",
    "    STREET_ID = Column(Float)\n",
    "    LOCATION = Column(Text)\n",
    "    LATITUDE = Column(Float)\n",
    "    LONGITUDE = Column(Float)\n",
    "    VIOLATION_DESCRIPTION = Column(Text)\n",
    "    TOTAL_PAID = Column(Integer)\n",
    "        \n",
    "    def __repr__(self):\n",
    "        return f\"id={self.id}, name={self.station}\""
   ]
  },
  {
   "cell_type": "code",
   "execution_count": 33,
   "metadata": {},
   "outputs": [],
   "source": [
    "# Use `create_all` to create the tables\n",
    "Base.metadata.create_all(engine)"
   ]
  },
  {
   "cell_type": "code",
   "execution_count": 34,
   "metadata": {},
   "outputs": [
    {
     "data": {
      "text/plain": [
       "['Movingviolations']"
      ]
     },
     "execution_count": 34,
     "metadata": {},
     "output_type": "execute_result"
    }
   ],
   "source": [
    "# Verify that the table names exist in the database\n",
    "engine.table_names()"
   ]
  },
  {
   "cell_type": "code",
   "execution_count": 35,
   "metadata": {},
   "outputs": [
    {
     "ename": "OperationalError",
     "evalue": "(sqlite3.OperationalError) table Movingviolations has no column named STREET_ID [SQL: 'INSERT INTO \"Movingviolations\" (\"STREET_ID\", \"LOCATION\", \"LATITUDE\", \"LONGITUDE\", \"VIOLATION_DESCRIPTION\", \"TOTAL_PAID\") VALUES (?, ?, ?, ?, ?, ?)'] [parameters: ((11963.0, '600 BLK KENILWORTH AVE NE S/B', 38.89893998087359, -76.94836791552189, 'SPEED 21-25 MPH OVER THE SPEED LIMIT', 200), (838.0, '5800 BLK NEW HAMPSHIRE AVE NE SW/B', 38.96172748285357, -77.00543275070984, 'SPEED 11-15 MPH OVER THE SPEED LIMIT', 100), (6364.0, '3RD ST TUNNEL NW N/B BY MA AVE', 38.8990385034916, -77.01397018192333, 'SPEED 16-20 MPH OVER THE SPEED LIMIT', 150), (9292.0, '2000 BLK BRANCH AVE SE S/B', 38.86521441878462, -76.95909935475638, 'SPEED 11-15 MPH OVER THE SPEED LIMIT', 100), (14658.0, '600 BLK NEW YORK AVENUE NE W/B', 38.91232449669349, -76.99560642303777, 'SPEED 11-15 MPH OVER THE SPEED LIMIT', 100), (4361.0, '2200 BLOCK K ST NW E/B', 38.90252596079553, -77.04997741040427, 'SPEED 11-15 MPH OVER THE SPEED LIMIT', 100), (4532.0, 'BLOCK   4200 7TH ST NW SOUTHBOUND', 38.94251555770723, -77.0216472851569, 'VIOLATION OF ONE WAY STREET RESTRICTION', 0), (8087.0, '5300 BLK EASTERN AVE NE SE/B', 38.95623012885402, -76.99069079364939, 'SPEED 11-15 MPH OVER THE SPEED LIMIT', 100)  ... displaying 10 of 115903 total bound parameter sets ...  (14693.0, 'DC295 SW .2 MILES S/O EXIT 1 N/B', 38.81962558419069, -77.0172636156187, 'SPEED 16-20 MPH OVER THE SPEED LIMIT', 0), (14693.0, 'DC295 SW .2 MILES S/O EXIT 1 N/B', 38.81962558419069, -77.0172636156187, 'SPEED 11-15 MPH OVER THE SPEED LIMIT', 0))] (Background on this error at: http://sqlalche.me/e/e3q8)",
     "output_type": "error",
     "traceback": [
      "\u001b[1;31m---------------------------------------------------------------------------\u001b[0m",
      "\u001b[1;31mOperationalError\u001b[0m                          Traceback (most recent call last)",
      "\u001b[1;32m~\\Anaconda3\\lib\\site-packages\\sqlalchemy\\engine\\base.py\u001b[0m in \u001b[0;36m_execute_context\u001b[1;34m(self, dialect, constructor, statement, parameters, *args)\u001b[0m\n\u001b[0;32m   1169\u001b[0m                         \u001b[0mparameters\u001b[0m\u001b[1;33m,\u001b[0m\u001b[1;33m\u001b[0m\u001b[0m\n\u001b[1;32m-> 1170\u001b[1;33m                         context)\n\u001b[0m\u001b[0;32m   1171\u001b[0m             \u001b[1;32melif\u001b[0m \u001b[1;32mnot\u001b[0m \u001b[0mparameters\u001b[0m \u001b[1;32mand\u001b[0m \u001b[0mcontext\u001b[0m\u001b[1;33m.\u001b[0m\u001b[0mno_parameters\u001b[0m\u001b[1;33m:\u001b[0m\u001b[1;33m\u001b[0m\u001b[0m\n",
      "\u001b[1;32m~\\Anaconda3\\lib\\site-packages\\sqlalchemy\\engine\\default.py\u001b[0m in \u001b[0;36mdo_executemany\u001b[1;34m(self, cursor, statement, parameters, context)\u001b[0m\n\u001b[0;32m    503\u001b[0m     \u001b[1;32mdef\u001b[0m \u001b[0mdo_executemany\u001b[0m\u001b[1;33m(\u001b[0m\u001b[0mself\u001b[0m\u001b[1;33m,\u001b[0m \u001b[0mcursor\u001b[0m\u001b[1;33m,\u001b[0m \u001b[0mstatement\u001b[0m\u001b[1;33m,\u001b[0m \u001b[0mparameters\u001b[0m\u001b[1;33m,\u001b[0m \u001b[0mcontext\u001b[0m\u001b[1;33m=\u001b[0m\u001b[1;32mNone\u001b[0m\u001b[1;33m)\u001b[0m\u001b[1;33m:\u001b[0m\u001b[1;33m\u001b[0m\u001b[0m\n\u001b[1;32m--> 504\u001b[1;33m         \u001b[0mcursor\u001b[0m\u001b[1;33m.\u001b[0m\u001b[0mexecutemany\u001b[0m\u001b[1;33m(\u001b[0m\u001b[0mstatement\u001b[0m\u001b[1;33m,\u001b[0m \u001b[0mparameters\u001b[0m\u001b[1;33m)\u001b[0m\u001b[1;33m\u001b[0m\u001b[0m\n\u001b[0m\u001b[0;32m    505\u001b[0m \u001b[1;33m\u001b[0m\u001b[0m\n",
      "\u001b[1;31mOperationalError\u001b[0m: table Movingviolations has no column named STREET_ID",
      "\nThe above exception was the direct cause of the following exception:\n",
      "\u001b[1;31mOperationalError\u001b[0m                          Traceback (most recent call last)",
      "\u001b[1;32m<ipython-input-35-25289a9fb04d>\u001b[0m in \u001b[0;36m<module>\u001b[1;34m()\u001b[0m\n\u001b[0;32m     19\u001b[0m \u001b[1;33m\u001b[0m\u001b[0m\n\u001b[0;32m     20\u001b[0m \u001b[1;31m# Call the function to insert the data for each table\u001b[0m\u001b[1;33m\u001b[0m\u001b[1;33m\u001b[0m\u001b[0m\n\u001b[1;32m---> 21\u001b[1;33m \u001b[0mpopulate_table\u001b[0m\u001b[1;33m(\u001b[0m\u001b[0mengine\u001b[0m\u001b[1;33m,\u001b[0m \u001b[0mMovingviolations\u001b[0m\u001b[1;33m.\u001b[0m\u001b[0m__table__\u001b[0m\u001b[1;33m,\u001b[0m \u001b[1;34m'cleaned_moving_violations.csv'\u001b[0m\u001b[1;33m)\u001b[0m\u001b[1;33m\u001b[0m\u001b[0m\n\u001b[0m",
      "\u001b[1;32m<ipython-input-35-25289a9fb04d>\u001b[0m in \u001b[0;36mpopulate_table\u001b[1;34m(engine, table, csvfile)\u001b[0m\n\u001b[0;32m     16\u001b[0m \u001b[1;33m\u001b[0m\u001b[0m\n\u001b[0;32m     17\u001b[0m     \u001b[1;31m# Insert the dataframe into the database in one bulk insert\u001b[0m\u001b[1;33m\u001b[0m\u001b[1;33m\u001b[0m\u001b[0m\n\u001b[1;32m---> 18\u001b[1;33m     \u001b[0mconn\u001b[0m\u001b[1;33m.\u001b[0m\u001b[0mexecute\u001b[0m\u001b[1;33m(\u001b[0m\u001b[0mtable\u001b[0m\u001b[1;33m.\u001b[0m\u001b[0minsert\u001b[0m\u001b[1;33m(\u001b[0m\u001b[1;33m)\u001b[0m\u001b[1;33m,\u001b[0m \u001b[0mdata\u001b[0m\u001b[1;33m)\u001b[0m\u001b[1;33m\u001b[0m\u001b[0m\n\u001b[0m\u001b[0;32m     19\u001b[0m \u001b[1;33m\u001b[0m\u001b[0m\n\u001b[0;32m     20\u001b[0m \u001b[1;31m# Call the function to insert the data for each table\u001b[0m\u001b[1;33m\u001b[0m\u001b[1;33m\u001b[0m\u001b[0m\n",
      "\u001b[1;32m~\\Anaconda3\\lib\\site-packages\\sqlalchemy\\engine\\base.py\u001b[0m in \u001b[0;36mexecute\u001b[1;34m(self, object, *multiparams, **params)\u001b[0m\n\u001b[0;32m    946\u001b[0m             \u001b[1;32mraise\u001b[0m \u001b[0mexc\u001b[0m\u001b[1;33m.\u001b[0m\u001b[0mObjectNotExecutableError\u001b[0m\u001b[1;33m(\u001b[0m\u001b[0mobject\u001b[0m\u001b[1;33m)\u001b[0m\u001b[1;33m\u001b[0m\u001b[0m\n\u001b[0;32m    947\u001b[0m         \u001b[1;32melse\u001b[0m\u001b[1;33m:\u001b[0m\u001b[1;33m\u001b[0m\u001b[0m\n\u001b[1;32m--> 948\u001b[1;33m             \u001b[1;32mreturn\u001b[0m \u001b[0mmeth\u001b[0m\u001b[1;33m(\u001b[0m\u001b[0mself\u001b[0m\u001b[1;33m,\u001b[0m \u001b[0mmultiparams\u001b[0m\u001b[1;33m,\u001b[0m \u001b[0mparams\u001b[0m\u001b[1;33m)\u001b[0m\u001b[1;33m\u001b[0m\u001b[0m\n\u001b[0m\u001b[0;32m    949\u001b[0m \u001b[1;33m\u001b[0m\u001b[0m\n\u001b[0;32m    950\u001b[0m     \u001b[1;32mdef\u001b[0m \u001b[0m_execute_function\u001b[0m\u001b[1;33m(\u001b[0m\u001b[0mself\u001b[0m\u001b[1;33m,\u001b[0m \u001b[0mfunc\u001b[0m\u001b[1;33m,\u001b[0m \u001b[0mmultiparams\u001b[0m\u001b[1;33m,\u001b[0m \u001b[0mparams\u001b[0m\u001b[1;33m)\u001b[0m\u001b[1;33m:\u001b[0m\u001b[1;33m\u001b[0m\u001b[0m\n",
      "\u001b[1;32m~\\Anaconda3\\lib\\site-packages\\sqlalchemy\\sql\\elements.py\u001b[0m in \u001b[0;36m_execute_on_connection\u001b[1;34m(self, connection, multiparams, params)\u001b[0m\n\u001b[0;32m    267\u001b[0m     \u001b[1;32mdef\u001b[0m \u001b[0m_execute_on_connection\u001b[0m\u001b[1;33m(\u001b[0m\u001b[0mself\u001b[0m\u001b[1;33m,\u001b[0m \u001b[0mconnection\u001b[0m\u001b[1;33m,\u001b[0m \u001b[0mmultiparams\u001b[0m\u001b[1;33m,\u001b[0m \u001b[0mparams\u001b[0m\u001b[1;33m)\u001b[0m\u001b[1;33m:\u001b[0m\u001b[1;33m\u001b[0m\u001b[0m\n\u001b[0;32m    268\u001b[0m         \u001b[1;32mif\u001b[0m \u001b[0mself\u001b[0m\u001b[1;33m.\u001b[0m\u001b[0msupports_execution\u001b[0m\u001b[1;33m:\u001b[0m\u001b[1;33m\u001b[0m\u001b[0m\n\u001b[1;32m--> 269\u001b[1;33m             \u001b[1;32mreturn\u001b[0m \u001b[0mconnection\u001b[0m\u001b[1;33m.\u001b[0m\u001b[0m_execute_clauseelement\u001b[0m\u001b[1;33m(\u001b[0m\u001b[0mself\u001b[0m\u001b[1;33m,\u001b[0m \u001b[0mmultiparams\u001b[0m\u001b[1;33m,\u001b[0m \u001b[0mparams\u001b[0m\u001b[1;33m)\u001b[0m\u001b[1;33m\u001b[0m\u001b[0m\n\u001b[0m\u001b[0;32m    270\u001b[0m         \u001b[1;32melse\u001b[0m\u001b[1;33m:\u001b[0m\u001b[1;33m\u001b[0m\u001b[0m\n\u001b[0;32m    271\u001b[0m             \u001b[1;32mraise\u001b[0m \u001b[0mexc\u001b[0m\u001b[1;33m.\u001b[0m\u001b[0mObjectNotExecutableError\u001b[0m\u001b[1;33m(\u001b[0m\u001b[0mself\u001b[0m\u001b[1;33m)\u001b[0m\u001b[1;33m\u001b[0m\u001b[0m\n",
      "\u001b[1;32m~\\Anaconda3\\lib\\site-packages\\sqlalchemy\\engine\\base.py\u001b[0m in \u001b[0;36m_execute_clauseelement\u001b[1;34m(self, elem, multiparams, params)\u001b[0m\n\u001b[0;32m   1058\u001b[0m             \u001b[0mcompiled_sql\u001b[0m\u001b[1;33m,\u001b[0m\u001b[1;33m\u001b[0m\u001b[0m\n\u001b[0;32m   1059\u001b[0m             \u001b[0mdistilled_params\u001b[0m\u001b[1;33m,\u001b[0m\u001b[1;33m\u001b[0m\u001b[0m\n\u001b[1;32m-> 1060\u001b[1;33m             \u001b[0mcompiled_sql\u001b[0m\u001b[1;33m,\u001b[0m \u001b[0mdistilled_params\u001b[0m\u001b[1;33m\u001b[0m\u001b[0m\n\u001b[0m\u001b[0;32m   1061\u001b[0m         )\n\u001b[0;32m   1062\u001b[0m         \u001b[1;32mif\u001b[0m \u001b[0mself\u001b[0m\u001b[1;33m.\u001b[0m\u001b[0m_has_events\u001b[0m \u001b[1;32mor\u001b[0m \u001b[0mself\u001b[0m\u001b[1;33m.\u001b[0m\u001b[0mengine\u001b[0m\u001b[1;33m.\u001b[0m\u001b[0m_has_events\u001b[0m\u001b[1;33m:\u001b[0m\u001b[1;33m\u001b[0m\u001b[0m\n",
      "\u001b[1;32m~\\Anaconda3\\lib\\site-packages\\sqlalchemy\\engine\\base.py\u001b[0m in \u001b[0;36m_execute_context\u001b[1;34m(self, dialect, constructor, statement, parameters, *args)\u001b[0m\n\u001b[0;32m   1198\u001b[0m                 \u001b[0mparameters\u001b[0m\u001b[1;33m,\u001b[0m\u001b[1;33m\u001b[0m\u001b[0m\n\u001b[0;32m   1199\u001b[0m                 \u001b[0mcursor\u001b[0m\u001b[1;33m,\u001b[0m\u001b[1;33m\u001b[0m\u001b[0m\n\u001b[1;32m-> 1200\u001b[1;33m                 context)\n\u001b[0m\u001b[0;32m   1201\u001b[0m \u001b[1;33m\u001b[0m\u001b[0m\n\u001b[0;32m   1202\u001b[0m         \u001b[1;32mif\u001b[0m \u001b[0mself\u001b[0m\u001b[1;33m.\u001b[0m\u001b[0m_has_events\u001b[0m \u001b[1;32mor\u001b[0m \u001b[0mself\u001b[0m\u001b[1;33m.\u001b[0m\u001b[0mengine\u001b[0m\u001b[1;33m.\u001b[0m\u001b[0m_has_events\u001b[0m\u001b[1;33m:\u001b[0m\u001b[1;33m\u001b[0m\u001b[0m\n",
      "\u001b[1;32m~\\Anaconda3\\lib\\site-packages\\sqlalchemy\\engine\\base.py\u001b[0m in \u001b[0;36m_handle_dbapi_exception\u001b[1;34m(self, e, statement, parameters, cursor, context)\u001b[0m\n\u001b[0;32m   1411\u001b[0m                 util.raise_from_cause(\n\u001b[0;32m   1412\u001b[0m                     \u001b[0msqlalchemy_exception\u001b[0m\u001b[1;33m,\u001b[0m\u001b[1;33m\u001b[0m\u001b[0m\n\u001b[1;32m-> 1413\u001b[1;33m                     \u001b[0mexc_info\u001b[0m\u001b[1;33m\u001b[0m\u001b[0m\n\u001b[0m\u001b[0;32m   1414\u001b[0m                 )\n\u001b[0;32m   1415\u001b[0m             \u001b[1;32melse\u001b[0m\u001b[1;33m:\u001b[0m\u001b[1;33m\u001b[0m\u001b[0m\n",
      "\u001b[1;32m~\\Anaconda3\\lib\\site-packages\\sqlalchemy\\util\\compat.py\u001b[0m in \u001b[0;36mraise_from_cause\u001b[1;34m(exception, exc_info)\u001b[0m\n\u001b[0;32m    201\u001b[0m     \u001b[0mexc_type\u001b[0m\u001b[1;33m,\u001b[0m \u001b[0mexc_value\u001b[0m\u001b[1;33m,\u001b[0m \u001b[0mexc_tb\u001b[0m \u001b[1;33m=\u001b[0m \u001b[0mexc_info\u001b[0m\u001b[1;33m\u001b[0m\u001b[0m\n\u001b[0;32m    202\u001b[0m     \u001b[0mcause\u001b[0m \u001b[1;33m=\u001b[0m \u001b[0mexc_value\u001b[0m \u001b[1;32mif\u001b[0m \u001b[0mexc_value\u001b[0m \u001b[1;32mis\u001b[0m \u001b[1;32mnot\u001b[0m \u001b[0mexception\u001b[0m \u001b[1;32melse\u001b[0m \u001b[1;32mNone\u001b[0m\u001b[1;33m\u001b[0m\u001b[0m\n\u001b[1;32m--> 203\u001b[1;33m     \u001b[0mreraise\u001b[0m\u001b[1;33m(\u001b[0m\u001b[0mtype\u001b[0m\u001b[1;33m(\u001b[0m\u001b[0mexception\u001b[0m\u001b[1;33m)\u001b[0m\u001b[1;33m,\u001b[0m \u001b[0mexception\u001b[0m\u001b[1;33m,\u001b[0m \u001b[0mtb\u001b[0m\u001b[1;33m=\u001b[0m\u001b[0mexc_tb\u001b[0m\u001b[1;33m,\u001b[0m \u001b[0mcause\u001b[0m\u001b[1;33m=\u001b[0m\u001b[0mcause\u001b[0m\u001b[1;33m)\u001b[0m\u001b[1;33m\u001b[0m\u001b[0m\n\u001b[0m\u001b[0;32m    204\u001b[0m \u001b[1;33m\u001b[0m\u001b[0m\n\u001b[0;32m    205\u001b[0m \u001b[1;32mif\u001b[0m \u001b[0mpy3k\u001b[0m\u001b[1;33m:\u001b[0m\u001b[1;33m\u001b[0m\u001b[0m\n",
      "\u001b[1;32m~\\Anaconda3\\lib\\site-packages\\sqlalchemy\\util\\compat.py\u001b[0m in \u001b[0;36mreraise\u001b[1;34m(tp, value, tb, cause)\u001b[0m\n\u001b[0;32m    184\u001b[0m             \u001b[0mvalue\u001b[0m\u001b[1;33m.\u001b[0m\u001b[0m__cause__\u001b[0m \u001b[1;33m=\u001b[0m \u001b[0mcause\u001b[0m\u001b[1;33m\u001b[0m\u001b[0m\n\u001b[0;32m    185\u001b[0m         \u001b[1;32mif\u001b[0m \u001b[0mvalue\u001b[0m\u001b[1;33m.\u001b[0m\u001b[0m__traceback__\u001b[0m \u001b[1;32mis\u001b[0m \u001b[1;32mnot\u001b[0m \u001b[0mtb\u001b[0m\u001b[1;33m:\u001b[0m\u001b[1;33m\u001b[0m\u001b[0m\n\u001b[1;32m--> 186\u001b[1;33m             \u001b[1;32mraise\u001b[0m \u001b[0mvalue\u001b[0m\u001b[1;33m.\u001b[0m\u001b[0mwith_traceback\u001b[0m\u001b[1;33m(\u001b[0m\u001b[0mtb\u001b[0m\u001b[1;33m)\u001b[0m\u001b[1;33m\u001b[0m\u001b[0m\n\u001b[0m\u001b[0;32m    187\u001b[0m         \u001b[1;32mraise\u001b[0m \u001b[0mvalue\u001b[0m\u001b[1;33m\u001b[0m\u001b[0m\n\u001b[0;32m    188\u001b[0m \u001b[1;33m\u001b[0m\u001b[0m\n",
      "\u001b[1;32m~\\Anaconda3\\lib\\site-packages\\sqlalchemy\\engine\\base.py\u001b[0m in \u001b[0;36m_execute_context\u001b[1;34m(self, dialect, constructor, statement, parameters, *args)\u001b[0m\n\u001b[0;32m   1168\u001b[0m                         \u001b[0mstatement\u001b[0m\u001b[1;33m,\u001b[0m\u001b[1;33m\u001b[0m\u001b[0m\n\u001b[0;32m   1169\u001b[0m                         \u001b[0mparameters\u001b[0m\u001b[1;33m,\u001b[0m\u001b[1;33m\u001b[0m\u001b[0m\n\u001b[1;32m-> 1170\u001b[1;33m                         context)\n\u001b[0m\u001b[0;32m   1171\u001b[0m             \u001b[1;32melif\u001b[0m \u001b[1;32mnot\u001b[0m \u001b[0mparameters\u001b[0m \u001b[1;32mand\u001b[0m \u001b[0mcontext\u001b[0m\u001b[1;33m.\u001b[0m\u001b[0mno_parameters\u001b[0m\u001b[1;33m:\u001b[0m\u001b[1;33m\u001b[0m\u001b[0m\n\u001b[0;32m   1172\u001b[0m                 \u001b[1;32mif\u001b[0m \u001b[0mself\u001b[0m\u001b[1;33m.\u001b[0m\u001b[0mdialect\u001b[0m\u001b[1;33m.\u001b[0m\u001b[0m_has_events\u001b[0m\u001b[1;33m:\u001b[0m\u001b[1;33m\u001b[0m\u001b[0m\n",
      "\u001b[1;32m~\\Anaconda3\\lib\\site-packages\\sqlalchemy\\engine\\default.py\u001b[0m in \u001b[0;36mdo_executemany\u001b[1;34m(self, cursor, statement, parameters, context)\u001b[0m\n\u001b[0;32m    502\u001b[0m \u001b[1;33m\u001b[0m\u001b[0m\n\u001b[0;32m    503\u001b[0m     \u001b[1;32mdef\u001b[0m \u001b[0mdo_executemany\u001b[0m\u001b[1;33m(\u001b[0m\u001b[0mself\u001b[0m\u001b[1;33m,\u001b[0m \u001b[0mcursor\u001b[0m\u001b[1;33m,\u001b[0m \u001b[0mstatement\u001b[0m\u001b[1;33m,\u001b[0m \u001b[0mparameters\u001b[0m\u001b[1;33m,\u001b[0m \u001b[0mcontext\u001b[0m\u001b[1;33m=\u001b[0m\u001b[1;32mNone\u001b[0m\u001b[1;33m)\u001b[0m\u001b[1;33m:\u001b[0m\u001b[1;33m\u001b[0m\u001b[0m\n\u001b[1;32m--> 504\u001b[1;33m         \u001b[0mcursor\u001b[0m\u001b[1;33m.\u001b[0m\u001b[0mexecutemany\u001b[0m\u001b[1;33m(\u001b[0m\u001b[0mstatement\u001b[0m\u001b[1;33m,\u001b[0m \u001b[0mparameters\u001b[0m\u001b[1;33m)\u001b[0m\u001b[1;33m\u001b[0m\u001b[0m\n\u001b[0m\u001b[0;32m    505\u001b[0m \u001b[1;33m\u001b[0m\u001b[0m\n\u001b[0;32m    506\u001b[0m     \u001b[1;32mdef\u001b[0m \u001b[0mdo_execute\u001b[0m\u001b[1;33m(\u001b[0m\u001b[0mself\u001b[0m\u001b[1;33m,\u001b[0m \u001b[0mcursor\u001b[0m\u001b[1;33m,\u001b[0m \u001b[0mstatement\u001b[0m\u001b[1;33m,\u001b[0m \u001b[0mparameters\u001b[0m\u001b[1;33m,\u001b[0m \u001b[0mcontext\u001b[0m\u001b[1;33m=\u001b[0m\u001b[1;32mNone\u001b[0m\u001b[1;33m)\u001b[0m\u001b[1;33m:\u001b[0m\u001b[1;33m\u001b[0m\u001b[0m\n",
      "\u001b[1;31mOperationalError\u001b[0m: (sqlite3.OperationalError) table Movingviolations has no column named STREET_ID [SQL: 'INSERT INTO \"Movingviolations\" (\"STREET_ID\", \"LOCATION\", \"LATITUDE\", \"LONGITUDE\", \"VIOLATION_DESCRIPTION\", \"TOTAL_PAID\") VALUES (?, ?, ?, ?, ?, ?)'] [parameters: ((11963.0, '600 BLK KENILWORTH AVE NE S/B', 38.89893998087359, -76.94836791552189, 'SPEED 21-25 MPH OVER THE SPEED LIMIT', 200), (838.0, '5800 BLK NEW HAMPSHIRE AVE NE SW/B', 38.96172748285357, -77.00543275070984, 'SPEED 11-15 MPH OVER THE SPEED LIMIT', 100), (6364.0, '3RD ST TUNNEL NW N/B BY MA AVE', 38.8990385034916, -77.01397018192333, 'SPEED 16-20 MPH OVER THE SPEED LIMIT', 150), (9292.0, '2000 BLK BRANCH AVE SE S/B', 38.86521441878462, -76.95909935475638, 'SPEED 11-15 MPH OVER THE SPEED LIMIT', 100), (14658.0, '600 BLK NEW YORK AVENUE NE W/B', 38.91232449669349, -76.99560642303777, 'SPEED 11-15 MPH OVER THE SPEED LIMIT', 100), (4361.0, '2200 BLOCK K ST NW E/B', 38.90252596079553, -77.04997741040427, 'SPEED 11-15 MPH OVER THE SPEED LIMIT', 100), (4532.0, 'BLOCK   4200 7TH ST NW SOUTHBOUND', 38.94251555770723, -77.0216472851569, 'VIOLATION OF ONE WAY STREET RESTRICTION', 0), (8087.0, '5300 BLK EASTERN AVE NE SE/B', 38.95623012885402, -76.99069079364939, 'SPEED 11-15 MPH OVER THE SPEED LIMIT', 100)  ... displaying 10 of 115903 total bound parameter sets ...  (14693.0, 'DC295 SW .2 MILES S/O EXIT 1 N/B', 38.81962558419069, -77.0172636156187, 'SPEED 16-20 MPH OVER THE SPEED LIMIT', 0), (14693.0, 'DC295 SW .2 MILES S/O EXIT 1 N/B', 38.81962558419069, -77.0172636156187, 'SPEED 11-15 MPH OVER THE SPEED LIMIT', 0))] (Background on this error at: http://sqlalche.me/e/e3q8)"
     ]
    }
   ],
   "source": [
    "# Use Pandas to Bulk insert each CSV file into their appropriate table\n",
    "def populate_table(engine, table, csvfile):\n",
    "    \"\"\"Populates a table from a Pandas DataFrame.\"\"\"\n",
    "    # connect to the database\n",
    "    conn = engine.connect()\n",
    "    \n",
    "    # Load the CSV file into a pandas dataframe \n",
    "    df_of_data_to_insert = pd.read_csv(csvfile)\n",
    "    \n",
    "    # Orient='records' creates a list of data to write\n",
    "    # http://pandas-docs.github.io/pandas-docs-travis/io.html#orient-options\n",
    "    data = df_of_data_to_insert.to_dict(orient='records')\n",
    "\n",
    "    # Optional: Delete all rows in the table \n",
    "    conn.execute(table.delete())\n",
    "\n",
    "    # Insert the dataframe into the database in one bulk insert\n",
    "    conn.execute(table.insert(), data)\n",
    "    \n",
    "# Call the function to insert the data for each table\n",
    "populate_table(engine, Movingviolations.__table__, 'cleaned_moving_violations.csv')"
   ]
  },
  {
   "cell_type": "code",
   "execution_count": 29,
   "metadata": {},
   "outputs": [
    {
     "data": {
      "text/plain": [
       "[(1, None, None, None, None, None, None)]"
      ]
     },
     "execution_count": 29,
     "metadata": {},
     "output_type": "execute_result"
    }
   ],
   "source": [
    "# Use a basic query to validate that the data was inserted correctly for table `Moving violations`\n",
    "engine.execute(\"SELECT * FROM Movingviolations LIMIT 1\").fetchall()"
   ]
  },
  {
   "cell_type": "code",
   "execution_count": null,
   "metadata": {},
   "outputs": [],
   "source": []
  }
 ],
 "metadata": {
  "kernelspec": {
   "display_name": "Python 3",
   "language": "python",
   "name": "python3"
  },
  "language_info": {
   "codemirror_mode": {
    "name": "ipython",
    "version": 3
   },
   "file_extension": ".py",
   "mimetype": "text/x-python",
   "name": "python",
   "nbconvert_exporter": "python",
   "pygments_lexer": "ipython3",
   "version": "3.6.4"
  }
 },
 "nbformat": 4,
 "nbformat_minor": 2
}
